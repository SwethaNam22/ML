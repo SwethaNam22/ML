{
 "cells": [
  {
   "cell_type": "code",
   "execution_count": 1,
   "metadata": {},
   "outputs": [],
   "source": [
    "import numpy as np"
   ]
  },
  {
   "cell_type": "code",
   "execution_count": 3,
   "metadata": {},
   "outputs": [],
   "source": [
    "X = np.array([\n",
    "    [3, 1500, 1],\n",
    "    [4, 2000, 0],\n",
    "    [3, 2500, 1],\n",
    "    [5, 3000, 0]\n",
    "])\n",
    "y = np.array([300000, 400000, 500000, 600000])"
   ]
  },
  {
   "cell_type": "code",
   "execution_count": 4,
   "metadata": {},
   "outputs": [],
   "source": [
    "def standardize(X):\n",
    "    means = np.mean(X, axis=0)\n",
    "    stds = np.std(X, axis=0, ddof=0)\n",
    "    X_standardized = (X - means) / stds\n",
    "    return X_standardized, means, stds\n",
    "\n",
    "X_standardized, means, stds = standardize(X)"
   ]
  },
  {
   "cell_type": "code",
   "execution_count": 5,
   "metadata": {},
   "outputs": [],
   "source": [
    "X_standardized = np.hstack([np.ones((X_standardized.shape[0], 1)), X_standardized])"
   ]
  },
  {
   "cell_type": "code",
   "execution_count": 6,
   "metadata": {},
   "outputs": [],
   "source": [
    "alpha = 0.01  # Learning rate\n",
    "iterations = 1000\n",
    "theta = np.zeros(X_standardized.shape[1])"
   ]
  },
  {
   "cell_type": "code",
   "execution_count": 7,
   "metadata": {},
   "outputs": [],
   "source": [
    "def compute_cost(X, y, theta):\n",
    "    m = len(y)\n",
    "    predictions = X.dot(theta)\n",
    "    cost = (1 / (2 * m)) * np.sum(np.square(predictions - y))\n",
    "    return cost"
   ]
  },
  {
   "cell_type": "code",
   "execution_count": 9,
   "metadata": {},
   "outputs": [],
   "source": [
    "def gradient_descent(X, y, theta, alpha, iterations):\n",
    "    m = len(y)\n",
    "    for _ in range(iterations):\n",
    "        predictions = X.dot(theta)\n",
    "        errors = predictions - y\n",
    "        theta -= (alpha / m) * X.T.dot(errors)\n",
    "    return theta"
   ]
  },
  {
   "cell_type": "code",
   "execution_count": 10,
   "metadata": {},
   "outputs": [
    {
     "name": "stdout",
     "output_type": "stream",
     "text": [
      "Parameters (theta): [449980.57293867  12679.43759669 107331.76937371   9915.98696606]\n"
     ]
    }
   ],
   "source": [
    "theta = gradient_descent(X_standardized, y, theta, alpha, iterations)\n",
    "print(f\"Parameters (theta): {theta}\")"
   ]
  },
  {
   "cell_type": "code",
   "execution_count": 11,
   "metadata": {},
   "outputs": [
    {
     "name": "stdout",
     "output_type": "stream",
     "text": [
      "Predicted price for new house: $454,119.51\n"
     ]
    }
   ],
   "source": [
    "def predict(new_data, means, stds, theta):\n",
    "    # Standardize new data\n",
    "    new_data_standardized = (new_data - means) / stds\n",
    "    # Add intercept term\n",
    "    new_data_standardized = np.hstack([np.ones((new_data_standardized.shape[0], 1)), new_data_standardized])\n",
    "    # Predict\n",
    "    return new_data_standardized.dot(theta)\n",
    "\n",
    "# Example prediction\n",
    "new_house_data = np.array([[4, 2200, 1]])  # 4 rooms, 2200 sqft, with pool\n",
    "predicted_price = predict(new_house_data, means, stds, theta)\n",
    "print(f\"Predicted price for new house: ${predicted_price[0]:,.2f}\")"
   ]
  }
 ],
 "metadata": {
  "kernelspec": {
   "display_name": "base",
   "language": "python",
   "name": "python3"
  },
  "language_info": {
   "codemirror_mode": {
    "name": "ipython",
    "version": 3
   },
   "file_extension": ".py",
   "mimetype": "text/x-python",
   "name": "python",
   "nbconvert_exporter": "python",
   "pygments_lexer": "ipython3",
   "version": "3.12.4"
  }
 },
 "nbformat": 4,
 "nbformat_minor": 2
}
